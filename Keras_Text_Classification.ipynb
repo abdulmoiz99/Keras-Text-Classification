{
  "nbformat": 4,
  "nbformat_minor": 0,
  "metadata": {
    "colab": {
      "name": "Keras Text Classification",
      "provenance": [],
      "collapsed_sections": []
    },
    "kernelspec": {
      "name": "python3",
      "display_name": "Python 3"
    },
    "language_info": {
      "name": "python"
    }
  },
  "cells": [
    {
      "cell_type": "code",
      "execution_count": 9,
      "metadata": {
        "colab": {
          "base_uri": "https://localhost:8080/"
        },
        "id": "3xWpbumuBj0O",
        "outputId": "17411f32-df60-470e-deea-5d8e9a4a087c"
      },
      "outputs": [
        {
          "output_type": "stream",
          "name": "stdout",
          "text": [
            "sentence    Wow... Loved this place.\n",
            "label                              1\n",
            "source                          yelp\n",
            "Name: 0, dtype: object\n"
          ]
        }
      ],
      "source": [
        "import pandas as pd\n",
        "\n",
        "filepath_dict = { 'yelp': '/content/sample_data/data/yelp_labelled.txt',\n",
        "                  'amazon': '/content/sample_data/data/amazon_cells_labelled.txt',\n",
        "                  'imdb': '/content/sample_data/data/imdb_labelled.txt'}\n",
        "\n",
        "df_list = []\n",
        "\n",
        "for source, filepath in filepath_dict.items():\n",
        "  df = pd.read_csv(filepath, names = ['sentence', 'label'], sep ='\\t')\n",
        "  df['source'] = source\n",
        "  df_list.append(df)\n",
        "\n",
        "df = pd.concat(df_list)\n",
        "print(df.iloc[0])  "
      ]
    },
    {
      "cell_type": "code",
      "source": [
        "from sklearn.model_selection import train_test_split\n",
        "\n",
        "df_yelp = df[df['source'] == 'yelp']\n",
        "\n",
        "sentences = df_yelp['sentence'].values\n",
        "y = df_yelp['label'].values\n",
        "\n",
        "sentences_train, sentences_test, y_train, y_test = train_test_split(\n",
        "    sentences,y,test_size = 0.25, random_state = 1000\n",
        ")"
      ],
      "metadata": {
        "id": "LyZtvddsFQeE"
      },
      "execution_count": 10,
      "outputs": []
    },
    {
      "cell_type": "code",
      "source": [
        "from sklearn.feature_extraction.text import CountVectorizer\n",
        "\n",
        "vectorizer = CountVectorizer()\n",
        "vectorizer.fit(sentences_train)\n",
        "\n",
        "X_train = vectorizer.transform(sentences_train)\n",
        "X_test = vectorizer.transform(sentences_test)\n"
      ],
      "metadata": {
        "id": "Xy9TjR5fFQZI"
      },
      "execution_count": 11,
      "outputs": []
    },
    {
      "cell_type": "code",
      "source": [
        "X_train"
      ],
      "metadata": {
        "colab": {
          "base_uri": "https://localhost:8080/"
        },
        "id": "v5MWnBODFQWU",
        "outputId": "92ffae6e-891a-41b4-c399-45897dcfd6ee"
      },
      "execution_count": 12,
      "outputs": [
        {
          "output_type": "execute_result",
          "data": {
            "text/plain": [
              "<750x1714 sparse matrix of type '<class 'numpy.int64'>'\n",
              "\twith 7368 stored elements in Compressed Sparse Row format>"
            ]
          },
          "metadata": {},
          "execution_count": 12
        }
      ]
    },
    {
      "cell_type": "code",
      "source": [
        "X_test"
      ],
      "metadata": {
        "colab": {
          "base_uri": "https://localhost:8080/"
        },
        "id": "q58D8dDHFQT-",
        "outputId": "d41e5316-e568-45b5-b55e-7f2fb7288606"
      },
      "execution_count": 13,
      "outputs": [
        {
          "output_type": "execute_result",
          "data": {
            "text/plain": [
              "<250x1714 sparse matrix of type '<class 'numpy.int64'>'\n",
              "\twith 2069 stored elements in Compressed Sparse Row format>"
            ]
          },
          "metadata": {},
          "execution_count": 13
        }
      ]
    },
    {
      "cell_type": "code",
      "source": [
        ""
      ],
      "metadata": {
        "id": "cuLM8EELFQRF"
      },
      "execution_count": null,
      "outputs": []
    }
  ]
}